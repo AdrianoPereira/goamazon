{
 "cells": [
  {
   "cell_type": "markdown",
   "metadata": {},
   "source": [
    "## Agrupamento de strokes para flashes\n",
    "\n",
    "O ruído natural que acontece na faixa de 3-30 kc/s consiste em impulsos eletromagnéticos causados pela atividade elétrica da atmosfera da terra, esses impulsos são denominados *sferics* e geralmente estão associados às descargas elétricas atmosféricas, uma vez que os raios atigem picos de potência elevados e se propagam com facilidade na banda (VLF - sigla do inglês, *very low frequency*) [LEWIS; HARVEY; RASMUSSEN, 1960](#). Devido essas características, esses impulsos podem ser detectados pelas redes VLF.\n",
    "\n",
    "A rede STARNET (*Sferics Timing Ranging Network*) é uma rede que opera em VLF, medindo continuamente o campo elétrico vertical na faixa de 4 a 15 kHz, podendo detectar até 130 *sferics* por segundo e inferir sua localização [MORALES et al., 2014)](#). Neste trabalho, os *sferics* represetarão os *strokes*, os quais serão transformados para *flashes*, que representará os raios nuvem-solo. Os *flashes* serão criados a partir do agrupamento dos *strokes*, para isso será utilizado o algoritmo DBSCAN (*Density-Based Spatial Clustering ofApplication with Noise*).\n",
    "\n",
    "O DBSCAN é uma algoritmo de aprendizado de máquina não supervisionado proposto por [Ester *et al.* (1996)](#) que tem como intuito criar agrupamentos a partir de um conjunto de dados n-dimensional. Esse algoritmo consiste em realizar agrupamentos por densidade de pontos. A densidade é calculada com base na vizinhança de pontos que é definida por um raio de alcance. O algoritmo inicializa selecionando aleatoriamente um ponto qualquer, calcula sua vizinhaça e repete esse processo de forma recursiva com o ponto mais próximo. Os principais parâmetros desse algoritmo são o $\\epsilon$ e $m$, indicando respectivamente o raio máximo da vizinhança e a quantidade mínima de pontos para formar um grupo. É escolhido da vizinhança o algoritmo que tiver a menor distância do ponto selecionado. Os pontos que não forem selecionados são considerados com *outliers*. A Figura [1](https://github.com/AdrianoPereira/goamazon/raw/master/notebooks/images/dbscan-simulation.gif) mostra uma simulação do funcionamento do algoritmo DBSCAN.\n",
    "![](https://github.com/AdrianoPereira/goamazon/raw/master/notebooks/images/dbscan-simulation.gif)\n"
   ]
  },
  {
   "cell_type": "markdown",
   "metadata": {},
   "source": [
    "O agrupamento dos strokes em flashes seguirá as etapas descritas no diagrama da Figura [2](#). Na primeira etapa os dados serão filtrados de acordo com a resolução temporal do radar, neste caso 12 minutos. Para os dados de cada intervalo de tempo será aplicado o algoritmo DBSCAN a fim de agrupar *strokes* que aconteceram em um intervalo de 1 segundo. Cada grupo obtido nesse processo será submetido novamente ao DBSCAN, usando como critério de agrupamento uma distância máxima de 2.5km, os *strokes* agrupados nesse processo, irão compor os respectivos *flashes*. O passo seguinte será obter o ponto central entre cada agrupamento de *strokes*, que indicará as coordenadas do *flash*. Em seguida serão computadas algumas estatísticas do processo, como histograma da frequência do número de *strokes*, frequência da distância entre os *strokes*, média de *strokes* e *flashes* simutâneos, dentre outras. Por fim, serão concatenadas em um *dataframe* todos os *flashes* obtidos, com suas respectivas informações de total de *strokes*, coordenada do *flash*, data e hora. Os valores do parâmetros $\\epsilon$ e $m$ do DBSCAN foram configurados de acordo com o trabalho de [Lopes (2019)](#). \n",
    "\n",
    "![](https://raw.githubusercontent.com/AdrianoPereira/goamazon/master/notebooks/images/flow-clustring-strokes.png)"
   ]
  },
  {
   "cell_type": "markdown",
   "metadata": {},
   "source": [
    "Importação das bibliotecas"
   ]
  },
  {
   "cell_type": "code",
   "execution_count": 1,
   "metadata": {
    "ExecuteTime": {
     "end_time": "2020-05-29T14:57:54.315482Z",
     "start_time": "2020-05-29T14:57:53.072634Z"
    }
   },
   "outputs": [],
   "source": [
    "import os\n",
    "import numpy as np\n",
    "import pandas as pd\n",
    "import matplotlib.pyplot as plt\n",
    "from matplotlib.patches import Circle\n",
    "import datetime as dt\n",
    "from sklearn.cluster import DBSCAN as dbs\n",
    "from sklearn.datasets import make_blobs\n",
    "from scipy.spatial import distance"
   ]
  },
  {
   "cell_type": "markdown",
   "metadata": {},
   "source": [
    "**Declaração das funções**\n",
    "\n",
    "`get_datetimes`: Recebe, respectivamente, as listas com os anos, meses e dias os quais deseja-se obter os intervalos de escaneamento do radar. Retorna uma lista com todos os intervalos diários do escaneamento do radar. \n",
    "\n",
    "`get_centroid`: Recebe coordenada (longitude e latitude) dos *strokes* que compõem um *flash*. Retorna a coordenada central entre os pontos, ou seja, a coordenada do *flash*.\n"
   ]
  },
  {
   "cell_type": "code",
   "execution_count": 2,
   "metadata": {
    "ExecuteTime": {
     "end_time": "2020-05-29T14:57:56.634357Z",
     "start_time": "2020-05-29T14:57:56.606696Z"
    }
   },
   "outputs": [],
   "source": [
    "def get_datetimes(years=[2014], months=[1], days=[1]):\n",
    "    hours = np.arange(0, 24)\n",
    "    minutes = np.arange(0, 60, 12)\n",
    "    datetimes = list()\n",
    "\n",
    "    for year in years:\n",
    "        for month in months:\n",
    "            for day in days:\n",
    "                for hour in hours:\n",
    "                    for minute in minutes:\n",
    "                        temp =  dt.datetime(year=year, month=month, day=day,\n",
    "                                            hour=hour, minute=minute, second=0)\n",
    "                        datetimes.append(temp)\n",
    "    return datetimes\n",
    "\n",
    "\n",
    "def get_centroid(points):\n",
    "    lon, lat = zip(*points)\n",
    "    n = len(lon)\n",
    "\n",
    "    return sum(lon)/n, sum(lat)/n"
   ]
  },
  {
   "cell_type": "markdown",
   "metadata": {},
   "source": [
    "Carrega para o conjunto de dados, com as informações dos *strokes*."
   ]
  },
  {
   "cell_type": "code",
   "execution_count": 3,
   "metadata": {
    "ExecuteTime": {
     "end_time": "2020-05-29T14:57:59.238747Z",
     "start_time": "2020-05-29T14:57:59.165743Z"
    }
   },
   "outputs": [
    {
     "data": {
      "text/html": [
       "<div>\n",
       "<style scoped>\n",
       "    .dataframe tbody tr th:only-of-type {\n",
       "        vertical-align: middle;\n",
       "    }\n",
       "\n",
       "    .dataframe tbody tr th {\n",
       "        vertical-align: top;\n",
       "    }\n",
       "\n",
       "    .dataframe thead th {\n",
       "        text-align: right;\n",
       "    }\n",
       "</style>\n",
       "<table border=\"1\" class=\"dataframe\">\n",
       "  <thead>\n",
       "    <tr style=\"text-align: right;\">\n",
       "      <th></th>\n",
       "      <th>datetime</th>\n",
       "      <th>latitude</th>\n",
       "      <th>longitude</th>\n",
       "      <th>major_ellipse_error</th>\n",
       "      <th>atd_error</th>\n",
       "      <th>quality_control</th>\n",
       "      <th>polarity</th>\n",
       "      <th>number_of_rx</th>\n",
       "      <th>number_of_atd</th>\n",
       "    </tr>\n",
       "  </thead>\n",
       "  <tbody>\n",
       "    <tr>\n",
       "      <th>0</th>\n",
       "      <td>2014-01-01 10:10:17</td>\n",
       "      <td>-10.48713</td>\n",
       "      <td>-74.31112</td>\n",
       "      <td>10917</td>\n",
       "      <td>79.3</td>\n",
       "      <td>2</td>\n",
       "      <td>0</td>\n",
       "      <td>5</td>\n",
       "      <td>10</td>\n",
       "    </tr>\n",
       "    <tr>\n",
       "      <th>1</th>\n",
       "      <td>2014-01-01 10:10:17</td>\n",
       "      <td>-10.22817</td>\n",
       "      <td>-74.43401</td>\n",
       "      <td>4586</td>\n",
       "      <td>72.9</td>\n",
       "      <td>2</td>\n",
       "      <td>0</td>\n",
       "      <td>7</td>\n",
       "      <td>21</td>\n",
       "    </tr>\n",
       "    <tr>\n",
       "      <th>2</th>\n",
       "      <td>2014-01-01 10:10:19</td>\n",
       "      <td>-11.31107</td>\n",
       "      <td>-73.99319</td>\n",
       "      <td>6372</td>\n",
       "      <td>75.0</td>\n",
       "      <td>2</td>\n",
       "      <td>0</td>\n",
       "      <td>5</td>\n",
       "      <td>10</td>\n",
       "    </tr>\n",
       "    <tr>\n",
       "      <th>3</th>\n",
       "      <td>2014-01-01 10:10:22</td>\n",
       "      <td>-10.39714</td>\n",
       "      <td>-74.57610</td>\n",
       "      <td>10445</td>\n",
       "      <td>111.8</td>\n",
       "      <td>2</td>\n",
       "      <td>0</td>\n",
       "      <td>6</td>\n",
       "      <td>15</td>\n",
       "    </tr>\n",
       "    <tr>\n",
       "      <th>4</th>\n",
       "      <td>2014-01-01 10:10:28</td>\n",
       "      <td>-11.95903</td>\n",
       "      <td>-72.92451</td>\n",
       "      <td>3658</td>\n",
       "      <td>15.2</td>\n",
       "      <td>0</td>\n",
       "      <td>0</td>\n",
       "      <td>4</td>\n",
       "      <td>6</td>\n",
       "    </tr>\n",
       "  </tbody>\n",
       "</table>\n",
       "</div>"
      ],
      "text/plain": [
       "              datetime  latitude  longitude  major_ellipse_error  atd_error  \\\n",
       "0  2014-01-01 10:10:17 -10.48713  -74.31112                10917       79.3   \n",
       "1  2014-01-01 10:10:17 -10.22817  -74.43401                 4586       72.9   \n",
       "2  2014-01-01 10:10:19 -11.31107  -73.99319                 6372       75.0   \n",
       "3  2014-01-01 10:10:22 -10.39714  -74.57610                10445      111.8   \n",
       "4  2014-01-01 10:10:28 -11.95903  -72.92451                 3658       15.2   \n",
       "\n",
       "   quality_control   polarity  number_of_rx  number_of_atd  \n",
       "0                 2         0             5             10  \n",
       "1                 2         0             7             21  \n",
       "2                 2         0             5             10  \n",
       "3                 2         0             6             15  \n",
       "4                 0         0             4              6  "
      ]
     },
     "execution_count": 3,
     "metadata": {},
     "output_type": "execute_result"
    }
   ],
   "source": [
    "filename = \"../data/starnet-20140101.csv\"\n",
    "df = pd.read_csv(filename)\n",
    "df.head()"
   ]
  },
  {
   "cell_type": "markdown",
   "metadata": {},
   "source": [
    "Convertendo coluna `datetime` para o tipo de dados correto."
   ]
  },
  {
   "cell_type": "code",
   "execution_count": 4,
   "metadata": {
    "ExecuteTime": {
     "end_time": "2020-05-29T14:58:03.430015Z",
     "start_time": "2020-05-29T14:58:03.394960Z"
    }
   },
   "outputs": [],
   "source": [
    "df['datetime'] = pd.to_datetime(df['datetime'])"
   ]
  },
  {
   "cell_type": "markdown",
   "metadata": {},
   "source": [
    "Inicializa variávei com intervalos diários do escaneamento do radar."
   ]
  },
  {
   "cell_type": "code",
   "execution_count": 5,
   "metadata": {
    "ExecuteTime": {
     "end_time": "2020-05-29T14:58:06.334794Z",
     "start_time": "2020-05-29T14:58:06.322798Z"
    }
   },
   "outputs": [],
   "source": [
    "years = [2014]\n",
    "months = [1]\n",
    "days = [1]\n",
    "time_series = get_datetimes(years, months, days)"
   ]
  },
  {
   "cell_type": "markdown",
   "metadata": {},
   "source": [
    "Transformação dos strokes em *flashes*\n",
    "\n",
    "Para cada intervalo de escaneamento diário do radar, os dados são agrupados seguindo as condições mencionadas anteriormente, ou seja, tempo 1 segundo e distância máxima de 2.5 km, considerando pelo menos 1 *stroke* para compor o *flash*."
   ]
  },
  {
   "cell_type": "code",
   "execution_count": 6,
   "metadata": {
    "ExecuteTime": {
     "end_time": "2020-05-29T14:58:44.854310Z",
     "start_time": "2020-05-29T14:58:09.077249Z"
    },
    "scrolled": true
   },
   "outputs": [],
   "source": [
    "l_time_serie = len(time_series)\n",
    "\n",
    "col_datetime = list()\n",
    "col_lon = list()\n",
    "col_lat = list()\n",
    "col_nflashs = list()\n",
    "\n",
    "T_DBSCAN = dbs(eps=0.5, min_samples=1)\n",
    "L_DBSCAN = dbs(eps=0.025, min_samples=1)\n",
    "\n",
    "for x in range(0, l_time_serie-1):\n",
    "    df_scan = df[((df['datetime'] >= time_series[x]) & \n",
    "                  (df['datetime'] < time_series[x+1]))]\n",
    "    if df_scan.empty:\n",
    "        continue\n",
    "        \n",
    "    sec_h = df_scan['datetime'].dt.hour*3600\n",
    "    sec_m = df_scan['datetime'].dt.minute*60\n",
    "    sec_s = df_scan['datetime'].dt.second+sec_m+sec_h\n",
    "    df_scan = df_scan.assign(seconds=sec_s)\n",
    "    \n",
    "    data_time = sec_s.values.reshape(-1, 1)\n",
    "    t_dbs_fit = T_DBSCAN.fit(data_time)\n",
    "    \n",
    "    mask_t = np.zeros_like(t_dbs_fit.labels_, dtype=bool)\n",
    "    mask_t[t_dbs_fit.core_sample_indices_] = True\n",
    "    \n",
    "    for label_t in set(t_dbs_fit.labels_):\n",
    "        idxs_label = np.where(t_dbs_fit.labels_ == label_t)[0]\n",
    "        df_cluster_t = df_scan.iloc[idxs_label, :]\n",
    "        \n",
    "        if df_cluster_t.empty:\n",
    "            continue\n",
    "            \n",
    "        data_loc = df_cluster_t[['longitude', 'latitude']].values\n",
    "        l_dbs_fit = L_DBSCAN.fit(data_loc)\n",
    "        \n",
    "        mask_l = np.zeros_like(l_dbs_fit.labels_, dtype=bool)\n",
    "        mask_l[l_dbs_fit.core_sample_indices_] = True\n",
    "        \n",
    "        for label_l in set(l_dbs_fit.labels_):\n",
    "            strokes_in_flash = data_loc[mask_l & (l_dbs_fit.labels_ == label_l)]\n",
    "            \n",
    "            lon, lat = get_centroid(data_loc)\n",
    "            col_datetime.append(time_series[x])\n",
    "            col_lon.append(lon)\n",
    "            col_lat.append(lat)\n",
    "            col_nflashs.append(strokes_in_flash.shape[0])\n",
    "             \n",
    "#         break\n",
    "#     break"
   ]
  },
  {
   "cell_type": "markdown",
   "metadata": {},
   "source": [
    "**Descrição do código do bloco acima.**\n",
    "\n",
    "A variável do bloco abaixo recebe o comprimento dos intervalos de tempo do escaneamento do radar:\n",
    "```python\n",
    "l_time_serie = len(time_series)\n",
    "```\n",
    "\n",
    "As listas criadas no bloco abaixo, receberão as informações que irão compor o *dataframe* durante o processamento:\n",
    "```python\n",
    "col_datetime = list()\n",
    "col_lon = list()\n",
    "col_lat = list()\n",
    "col_nflashs = list()\n",
    "```\n",
    "\n",
    "As variáveis do bloco abaixo recebem as instâncias do DBSCAN com seus respectivos parâmetros. `T_DBSCAN` é o método de agrupamento por tempo e `L_DBSCAN` é o método de agrupamento com os parâmetros de localização.\n",
    "```python\n",
    "T_DBSCAN = dbs(eps=0.5, min_samples=1)\n",
    "L_DBSCAN = dbs(eps=0.025, min_samples=1)\n",
    "```\n",
    "\n",
    "O processo de agrupamento é realizado para todos os intervalos de escaneamento do radar.\n",
    "```python\n",
    "for x in range(0, l_time_serie-1):\n",
    "```\n",
    "\n",
    "No bloco abaixo, a variável `df_scan` recebe os *strokes* do intervalo de escaneamento atual. \n",
    "```python\n",
    "df_scan = df[((df['datetime'] >= time_series[x]) & \n",
    "              (df['datetime'] < time_series[x+1]))]\n",
    "if df_scan.empty:\n",
    "    continue\n",
    "```\n",
    "\n",
    "No bloco abaixo, é calculado o tempo na escala de segundos para todos os dados *strokes* do intervalo atual.\n",
    "```python\n",
    "sec_h = df_scan['datetime'].dt.hour*3600\n",
    "sec_m = df_scan['datetime'].dt.minute*60\n",
    "sec_s = df_scan['datetime'].dt.second+sec_m+sec_h\n",
    "df_scan = df_scan.assign(seconds=sec_s)\n",
    "```\n",
    "\n",
    "No bloco abaixo, os dados são convertidos em uma matriz unidimensional, e agrupados pela sua restrinção de tempo.\n",
    "```python\n",
    "data_time = sec_s.values.reshape(-1, 1)\n",
    "t_dbs_fit = T_DBSCAN.fit(data_time)\n",
    "```\n",
    "\n",
    "No bloco abaixo, é criada uma máscara para recuperar os agrupamentos a partir da sua identificação.\n",
    "```python\n",
    "mask_t = np.zeros_like(t_dbs_fit.labels_, dtype=bool)\n",
    "mask_t[t_dbs_fit.core_sample_indices_] = True\n",
    "```\n",
    "\n",
    "No bloco abaixo, é iniciado a interação por todos os agrupamentos de tempo, para que seja aplicado o agrupamento por localização.\n",
    "```python\n",
    "for label_t in set(t_dbs_fit.labels_):\n",
    "```\n",
    "\n",
    "No bloco abaixo, são filtrados somente os registros do agrupamento de tempo atual.\n",
    "```python\n",
    "idxs_label = np.where(t_dbs_fit.labels_ == label_t)[0]\n",
    "df_cluster_t = df_scan.iloc[idxs_label, :]\n",
    "\n",
    "if df_cluster_t.empty:\n",
    "    continue\n",
    "```\n",
    "\n",
    "No bloco abaixo, os dados são agrupados de acordo com sua localização.\n",
    "```python\n",
    "data_loc = df_cluster_t[['longitude', 'latitude']].values\n",
    "l_dbs_fit = L_DBSCAN.fit(data_loc)\n",
    "```\n",
    "\n",
    "No bloco abaixo, é criada a mascara para a selação do novo grupo, e em seguinda são concatenados nas listas que irão compor o *dataframe*.\n",
    "```python\n",
    "mask_l = np.zeros_like(l_dbs_fit.labels_, dtype=bool)\n",
    "mask_l[l_dbs_fit.core_sample_indices_] = True\n",
    "\n",
    "for label_l in set(l_dbs_fit.labels_):\n",
    "    strokes_in_flash = data_loc[mask_l & (l_dbs_fit.labels_ == label_l)]\n",
    "\n",
    "    lon, lat = get_centroid(data_loc)\n",
    "    col_datetime.append(time_series[x])\n",
    "    col_lon.append(lon)\n",
    "    col_lat.append(lat)\n",
    "    col_nflashs.append(strokes_in_flash.shape[0])\n",
    "```"
   ]
  },
  {
   "cell_type": "markdown",
   "metadata": {},
   "source": [
    "Exibição do cabeçalho do *dataframe* contendo os *flashes* calculados."
   ]
  },
  {
   "cell_type": "code",
   "execution_count": 9,
   "metadata": {
    "ExecuteTime": {
     "end_time": "2020-05-29T17:07:31.726079Z",
     "start_time": "2020-05-29T17:07:31.690168Z"
    }
   },
   "outputs": [
    {
     "data": {
      "text/html": [
       "<div>\n",
       "<style scoped>\n",
       "    .dataframe tbody tr th:only-of-type {\n",
       "        vertical-align: middle;\n",
       "    }\n",
       "\n",
       "    .dataframe tbody tr th {\n",
       "        vertical-align: top;\n",
       "    }\n",
       "\n",
       "    .dataframe thead th {\n",
       "        text-align: right;\n",
       "    }\n",
       "</style>\n",
       "<table border=\"1\" class=\"dataframe\">\n",
       "  <thead>\n",
       "    <tr style=\"text-align: right;\">\n",
       "      <th></th>\n",
       "      <th>datetime</th>\n",
       "      <th>lon</th>\n",
       "      <th>lat</th>\n",
       "      <th>strokes</th>\n",
       "    </tr>\n",
       "  </thead>\n",
       "  <tbody>\n",
       "    <tr>\n",
       "      <th>0</th>\n",
       "      <td>2014-01-01</td>\n",
       "      <td>-73.356810</td>\n",
       "      <td>-4.42759</td>\n",
       "      <td>1</td>\n",
       "    </tr>\n",
       "    <tr>\n",
       "      <th>1</th>\n",
       "      <td>2014-01-01</td>\n",
       "      <td>-73.559995</td>\n",
       "      <td>-0.05591</td>\n",
       "      <td>1</td>\n",
       "    </tr>\n",
       "    <tr>\n",
       "      <th>2</th>\n",
       "      <td>2014-01-01</td>\n",
       "      <td>-73.559995</td>\n",
       "      <td>-0.05591</td>\n",
       "      <td>1</td>\n",
       "    </tr>\n",
       "    <tr>\n",
       "      <th>3</th>\n",
       "      <td>2014-01-01</td>\n",
       "      <td>-73.859720</td>\n",
       "      <td>-0.03174</td>\n",
       "      <td>1</td>\n",
       "    </tr>\n",
       "    <tr>\n",
       "      <th>4</th>\n",
       "      <td>2014-01-01</td>\n",
       "      <td>-66.595700</td>\n",
       "      <td>-0.22699</td>\n",
       "      <td>1</td>\n",
       "    </tr>\n",
       "  </tbody>\n",
       "</table>\n",
       "</div>"
      ],
      "text/plain": [
       "    datetime        lon      lat  strokes\n",
       "0 2014-01-01 -73.356810 -4.42759        1\n",
       "1 2014-01-01 -73.559995 -0.05591        1\n",
       "2 2014-01-01 -73.559995 -0.05591        1\n",
       "3 2014-01-01 -73.859720 -0.03174        1\n",
       "4 2014-01-01 -66.595700 -0.22699        1"
      ]
     },
     "execution_count": 9,
     "metadata": {},
     "output_type": "execute_result"
    }
   ],
   "source": [
    "new_df = pd.DataFrame({'datetime': col_datetime, 'lon': col_lon, 'lat': col_lat, 'strokes': col_nflashs})\n",
    "new_df.head()"
   ]
  },
  {
   "cell_type": "markdown",
   "metadata": {},
   "source": [
    "Obtenção das estatíticas dos *flashes*."
   ]
  },
  {
   "cell_type": "code",
   "execution_count": 8,
   "metadata": {
    "ExecuteTime": {
     "end_time": "2020-05-29T14:58:55.938933Z",
     "start_time": "2020-05-29T14:58:54.572842Z"
    }
   },
   "outputs": [
    {
     "data": {
      "image/png": "[encoded data removed]",
      "text/plain": [
       "<Figure size 1224x576 with 1 Axes>"
      ]
     },
     "metadata": {
      "needs_background": "light"
     },
     "output_type": "display_data"
    }
   ],
   "source": [
    "flashs_by_strokes = dict()\n",
    "for stroke in new_df['strokes'].unique():\n",
    "    flashs_by_strokes[stroke] = new_df.query(\"strokes == %d\"%stroke).count()[0]\n",
    "\n",
    "plt.figure(figsize=(17, 8))\n",
    "plt.title('Frequency strokes by flash', fontdict=dict(size=18))\n",
    "recs = plt.bar(flashs_by_strokes.keys(), flashs_by_strokes.values(), ec='k', fc='w', lw=1)\n",
    "for rec in recs:\n",
    "    height = rec.get_height()\n",
    "    plt.annotate('{}'.format(height),\n",
    "                xy=(rec.get_x() + rec.get_width() / 2, height),\n",
    "                xytext=(0, 3),  # 3 points vertical offset\n",
    "                textcoords=\"offset points\",\n",
    "                ha='center', va='bottom')\n",
    "plt.xlabel('Total de strokes por flash', fontdict=dict(size=16))\n",
    "plt.ylabel('Frequencia', fontdict=dict(size=16))\n",
    "plt.savefig('frequency_flashs.png', dpi=300, bbox_inches='tight', transparent=False, pad_inches=0.1)"
   ]
  }
 ],
 "metadata": {
  "kernelspec": {
   "display_name": "Python 3",
   "language": "python",
   "name": "python3"
  },
  "language_info": {
   "codemirror_mode": {
    "name": "ipython",
    "version": 3
   },
   "file_extension": ".py",
   "mimetype": "text/x-python",
   "name": "python",
   "nbconvert_exporter": "python",
   "pygments_lexer": "ipython3",
   "version": "3.7.3"
  }
 },
 "nbformat": 4,
 "nbformat_minor": 2
}
